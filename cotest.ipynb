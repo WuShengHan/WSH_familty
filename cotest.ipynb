{
  "nbformat": 4,
  "nbformat_minor": 0,
  "metadata": {
    "colab": {
      "name": "cotest.ipynb",
      "provenance": []
    },
    "kernelspec": {
      "name": "python3",
      "display_name": "Python 3"
    },
    "language_info": {
      "name": "python"
    }
  },
  "cells": [
    {
      "cell_type": "code",
      "metadata": {
        "colab": {
          "base_uri": "https://localhost:8080/"
        },
        "id": "LIw-CAEBgsTl",
        "outputId": "ea9dda91-3f66-4ae0-c0b6-651c39fa54ea"
      },
      "source": [
        "print(\"hello world, testing\")"
      ],
      "execution_count": 2,
      "outputs": [
        {
          "output_type": "stream",
          "text": [
            "hello world, testing\n"
          ],
          "name": "stdout"
        }
      ]
    }
  ]
}